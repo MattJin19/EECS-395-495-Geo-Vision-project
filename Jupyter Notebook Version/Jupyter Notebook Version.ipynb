{
  "nbformat": 4,
  "nbformat_minor": 0,
  "metadata": {
    "colab": {
      "name": "Untitled",
      "provenance": []
    },
    "kernelspec": {
      "name": "python3",
      "display_name": "Python 3"
    },
    "accelerator": "TPU"
  },
  "cells": [
    {
      "cell_type": "code",
      "metadata": {
        "id": "i3kb5MGgyFhn",
        "colab_type": "code",
        "outputId": "8ed199cd-70a2-44c3-f6b2-6585ad0fac20",
        "colab": {
          "base_uri": "https://localhost:8080/",
          "height": 34
        }
      },
      "source": [
        "from google.colab import drive\n",
        "drive.mount('/content/drive')"
      ],
      "execution_count": 0,
      "outputs": [
        {
          "output_type": "stream",
          "text": [
            "Drive already mounted at /content/drive; to attempt to forcibly remount, call drive.mount(\"/content/drive\", force_remount=True).\n"
          ],
          "name": "stdout"
        }
      ]
    },
    {
      "cell_type": "code",
      "metadata": {
        "id": "D01kQpOC0Brr",
        "colab_type": "code",
        "outputId": "dd810379-d064-47f3-e432-5b51dcaef219",
        "colab": {
          "base_uri": "https://localhost:8080/",
          "height": 85
        }
      },
      "source": [
        "!pip install hdf5storage"
      ],
      "execution_count": 0,
      "outputs": [
        {
          "output_type": "stream",
          "text": [
            "Requirement already satisfied: hdf5storage in /usr/local/lib/python3.6/dist-packages (0.1.15)\n",
            "Requirement already satisfied: numpy; python_version >= \"3.4\" in /usr/local/lib/python3.6/dist-packages (from hdf5storage) (1.18.4)\n",
            "Requirement already satisfied: h5py>=2.1; python_version >= \"3.3\" in /usr/local/lib/python3.6/dist-packages (from hdf5storage) (2.10.0)\n",
            "Requirement already satisfied: six in /usr/local/lib/python3.6/dist-packages (from h5py>=2.1; python_version >= \"3.3\"->hdf5storage) (1.12.0)\n"
          ],
          "name": "stdout"
        }
      ]
    },
    {
      "cell_type": "code",
      "metadata": {
        "id": "01ItpZ3XyCPV",
        "colab_type": "code",
        "colab": {}
      },
      "source": [
        "import hdf5storage\n",
        "import numpy as np\n",
        "\n",
        "root_path = 'drive/My Drive/DeepLearning/newdataset/'\n",
        "\n",
        "def LoadData(root_path):\n",
        "  h5x_test = hdf5storage.loadmat(root_path+'new_sat6test.mat')\n",
        "  h5x_train = hdf5storage.loadmat(root_path+'new_sat6train.mat')\n",
        "  h5y_test = hdf5storage.loadmat(root_path+'new_test_label.mat')\n",
        "  h5y_train = hdf5storage.loadmat(root_path+'new_train_label.mat')\n",
        "  x_test = h5x_test.get('new_sat_test')\n",
        "  x_train = h5x_train.get('new_sat_train')\n",
        "  y_test = h5y_test.get('new_test_label')\n",
        "  y_train = h5y_train.get('new_train_label')\n",
        "\n",
        "  x_train=x_train.swapaxes(2,3)\n",
        "  x_train=x_train.swapaxes(1,2)\n",
        "  x_train=x_train.swapaxes(0,1)\n",
        "  x_test=x_test.swapaxes(2,3)\n",
        "  x_test=x_test.swapaxes(1,2)\n",
        "  x_test=x_test.swapaxes(0,1)\n",
        "\n",
        "  y_train=y_train.swapaxes(0,1)\n",
        "  y_test=y_test.swapaxes(0,1)\n",
        "  return  (x_train,y_train,x_test,y_test)"
      ],
      "execution_count": 0,
      "outputs": []
    },
    {
      "cell_type": "code",
      "metadata": {
        "id": "cYRZtvV9x_iQ",
        "colab_type": "code",
        "colab": {}
      },
      "source": [
        "import tensorflow.keras as keras\n",
        "\n",
        "(x_train,y_train,x_test,y_test) = LoadData(root_path)"
      ],
      "execution_count": 0,
      "outputs": []
    },
    {
      "cell_type": "code",
      "metadata": {
        "id": "gVbzG8VTBjPL",
        "colab_type": "code",
        "colab": {}
      },
      "source": [
        "x_train = np.divide(x_train,255.0,dtype=np.float16)\n",
        "x_test = np.divide(x_test,255.0,dtype=np.float16)"
      ],
      "execution_count": 0,
      "outputs": []
    },
    {
      "cell_type": "code",
      "metadata": {
        "id": "FIfrn-C_3R7v",
        "colab_type": "code",
        "outputId": "ebd62372-ad9c-4da2-e618-40b1697bf818",
        "colab": {
          "base_uri": "https://localhost:8080/",
          "height": 34
        }
      },
      "source": [
        "(x_train.shape,y_train.shape,x_test.shape,y_test.shape)"
      ],
      "execution_count": 0,
      "outputs": [
        {
          "output_type": "execute_result",
          "data": {
            "text/plain": [
              "((301574, 28, 28, 4), (301574, 6), (75409, 28, 28, 4), (75409, 6))"
            ]
          },
          "metadata": {
            "tags": []
          },
          "execution_count": 6
        }
      ]
    },
    {
      "cell_type": "code",
      "metadata": {
        "id": "bOUJtiwy2A8K",
        "colab_type": "code",
        "outputId": "dfe5b1ef-2078-48f1-893b-0d82bc054b31",
        "colab": {
          "base_uri": "https://localhost:8080/",
          "height": 460
        }
      },
      "source": [
        "optimizer = LeNet5(x_train,y_train,x_test,y_test)\n",
        "#hyperparameters\n",
        "lr=0.1\n",
        "decay=1e-6\n",
        "momentum=0.9\n",
        "batch_size=96\n",
        "epochs=12\n",
        "\n",
        "optimizer.train(lr,decay,momentum,batch_size,epochs)"
      ],
      "execution_count": 0,
      "outputs": [
        {
          "output_type": "stream",
          "text": [
            "Training on  301574 samples with SGD\n",
            "learning rate: 0.1 ,weight_decay: 1e-06 ,momentum: 0.9 ,batch_size: 96\n",
            "Epoch 1/12\n",
            "301574/301574 [==============================] - 83s 276us/step - loss: 0.6128 - accuracy: 0.7631\n",
            "Epoch 2/12\n",
            "301574/301574 [==============================] - 83s 274us/step - loss: 0.2768 - accuracy: 0.9063\n",
            "Epoch 3/12\n",
            "301574/301574 [==============================] - 81s 270us/step - loss: 0.2242 - accuracy: 0.9249\n",
            "Epoch 4/12\n",
            "301574/301574 [==============================] - 81s 270us/step - loss: 0.1963 - accuracy: 0.9345\n",
            "Epoch 5/12\n",
            "301574/301574 [==============================] - 83s 276us/step - loss: 0.1807 - accuracy: 0.9393\n",
            "Epoch 6/12\n",
            "301574/301574 [==============================] - 82s 273us/step - loss: 0.1715 - accuracy: 0.9422\n",
            "Epoch 7/12\n",
            "301574/301574 [==============================] - 83s 275us/step - loss: 0.1610 - accuracy: 0.9450\n",
            "Epoch 8/12\n",
            "301574/301574 [==============================] - 82s 273us/step - loss: 0.1544 - accuracy: 0.9477\n",
            "Epoch 9/12\n",
            "301574/301574 [==============================] - 84s 278us/step - loss: 0.1495 - accuracy: 0.9490\n",
            "Epoch 10/12\n",
            "301574/301574 [==============================] - 83s 274us/step - loss: 0.1429 - accuracy: 0.9513\n",
            "Epoch 11/12\n",
            "301574/301574 [==============================] - 82s 272us/step - loss: 0.1384 - accuracy: 0.9522\n",
            "Epoch 12/12\n",
            "301574/301574 [==============================] - 82s 273us/step - loss: 0.1332 - accuracy: 0.9541\n"
          ],
          "name": "stdout"
        }
      ]
    },
    {
      "cell_type": "code",
      "metadata": {
        "id": "dQ1MnOQkJs6T",
        "colab_type": "code",
        "outputId": "4c8c4d1c-4626-46c2-ba35-cf974f9c4f35",
        "colab": {
          "base_uri": "https://localhost:8080/",
          "height": 571
        }
      },
      "source": [
        "optimizer.test()"
      ],
      "execution_count": 0,
      "outputs": [
        {
          "output_type": "stream",
          "text": [
            "Test on 75409 samples\n",
            "75409/75409 [==============================] - 27s 359us/step\n",
            "Test loss: 0.13412629089683697\n",
            "Test accuracy: 0.9547799229621887\n",
            "Don't use as a metric - Original Training Dataset Accuracy: 95.331%\n",
            "Test Dataset Accuracy: 95.478%\n"
          ],
          "name": "stdout"
        },
        {
          "output_type": "display_data",
          "data": {
            "image/png": "[encoded data removed]",
            "text/plain": [
              "<Figure size 216x216 with 2 Axes>"
            ]
          },
          "metadata": {
            "tags": [],
            "needs_background": "light"
          }
        },
        {
          "output_type": "display_data",
          "data": {
            "image/png": "[encoded data removed]",
            "text/plain": [
              "<Figure size 216x216 with 2 Axes>"
            ]
          },
          "metadata": {
            "tags": [],
            "needs_background": "light"
          }
        }
      ]
    },
    {
      "cell_type": "code",
      "metadata": {
        "id": "LtIbKe5qHhKG",
        "colab_type": "code",
        "outputId": "03f7a93c-7420-40c8-dc09-288235807543",
        "colab": {
          "base_uri": "https://localhost:8080/",
          "height": 156
        }
      },
      "source": [
        "import tensorflow as tf\n",
        "import os\n",
        "resolver = tf.distribute.cluster_resolver.TPUClusterResolver(tpu='grpc://' + os.environ['COLAB_TPU_ADDR'])\n",
        "tf.config.experimental_connect_to_cluster(resolver)\n",
        "# This is the TPU initialization code that has to be at the beginning.\n",
        "tf.tpu.experimental.initialize_tpu_system(resolver)\n",
        "print(\"All devices: \", tf.config.list_logical_devices('TPU'))"
      ],
      "execution_count": 0,
      "outputs": [
        {
          "output_type": "stream",
          "text": [
            "INFO:tensorflow:Initializing the TPU system: grpc://10.38.52.138:8470\n"
          ],
          "name": "stdout"
        },
        {
          "output_type": "stream",
          "text": [
            "INFO:tensorflow:Initializing the TPU system: grpc://10.38.52.138:8470\n"
          ],
          "name": "stderr"
        },
        {
          "output_type": "stream",
          "text": [
            "INFO:tensorflow:Clearing out eager caches\n"
          ],
          "name": "stdout"
        },
        {
          "output_type": "stream",
          "text": [
            "INFO:tensorflow:Clearing out eager caches\n"
          ],
          "name": "stderr"
        },
        {
          "output_type": "stream",
          "text": [
            "INFO:tensorflow:Finished initializing TPU system.\n"
          ],
          "name": "stdout"
        },
        {
          "output_type": "stream",
          "text": [
            "INFO:tensorflow:Finished initializing TPU system.\n"
          ],
          "name": "stderr"
        },
        {
          "output_type": "stream",
          "text": [
            "All devices:  [LogicalDevice(name='/job:worker/replica:0/task:0/device:TPU:7', device_type='TPU'), LogicalDevice(name='/job:worker/replica:0/task:0/device:TPU:6', device_type='TPU'), LogicalDevice(name='/job:worker/replica:0/task:0/device:TPU:5', device_type='TPU'), LogicalDevice(name='/job:worker/replica:0/task:0/device:TPU:4', device_type='TPU'), LogicalDevice(name='/job:worker/replica:0/task:0/device:TPU:0', device_type='TPU'), LogicalDevice(name='/job:worker/replica:0/task:0/device:TPU:1', device_type='TPU'), LogicalDevice(name='/job:worker/replica:0/task:0/device:TPU:2', device_type='TPU'), LogicalDevice(name='/job:worker/replica:0/task:0/device:TPU:3', device_type='TPU')]\n"
          ],
          "name": "stdout"
        }
      ]
    },
    {
      "cell_type": "code",
      "metadata": {
        "id": "AytypYWLI-hT",
        "colab_type": "code",
        "outputId": "c2056b90-c4a5-43d6-8a6f-6c351a816cdb",
        "colab": {
          "base_uri": "https://localhost:8080/",
          "height": 85
        }
      },
      "source": [
        "a = tf.constant([[1.0, 2.0, 3.0], [4.0, 5.0, 6.0]])\n",
        "b = tf.constant([[1.0, 2.0], [3.0, 4.0], [5.0, 6.0]])\n",
        "with tf.device('/TPU:0'):\n",
        "  c = tf.matmul(a, b)\n",
        "print(\"c device: \", c.device)\n",
        "print(c)"
      ],
      "execution_count": 0,
      "outputs": [
        {
          "output_type": "stream",
          "text": [
            "c device:  /job:worker/replica:0/task:0/device:TPU:0\n",
            "tf.Tensor(\n",
            "[[22. 28.]\n",
            " [49. 64.]], shape=(2, 2), dtype=float32)\n"
          ],
          "name": "stdout"
        }
      ]
    },
    {
      "cell_type": "code",
      "metadata": {
        "id": "fC8xmvlG2Mml",
        "colab_type": "code",
        "outputId": "85f49f98-1f83-488d-bbe5-f414e2220917",
        "colab": {
          "base_uri": "https://localhost:8080/",
          "height": 68
        }
      },
      "source": [
        "import keras\n",
        "from keras import optimizers\n",
        "from keras.models import Sequential\n",
        "from keras.layers import Dense,Flatten\n",
        "from keras.layers import Conv2D, MaxPooling2D\n",
        "import numpy as np\n",
        "import matplotlib.pyplot as plt\n",
        "from sklearn.metrics import confusion_matrix, f1_score\n",
        "import seaborn as sns\n",
        "\n",
        "class LeNet5:\n",
        "  def __init__(self,x_train,y_train,x_test,y_test):\n",
        "    self.x_train=x_train\n",
        "    self.y_train=y_train\n",
        "    self.x_test=x_test\n",
        "    self.y_test=y_test\n",
        "    pass\n",
        "  \n",
        "  def train(self,Lr=0.01, Decay=1e-6, Momentum=0.9,batch_size=128, epochs=12):\n",
        "    # output type\n",
        "    # output images are 28*28 pixels in grey scale\n",
        "    num_classes = 6\n",
        "    img_rows, img_cols = 28, 28\n",
        "\n",
        "    x_train = self.x_train\n",
        "    x_test = self.x_test\n",
        "    input_shape = (img_rows, img_cols, 4)\n",
        "\n",
        "    # Convert data type into float32\n",
        "    x_train = x_train.astype('float32')\n",
        "    x_test = x_test.astype('float32')\n",
        "\n",
        "    print('Training on ',x_train.shape[0], 'samples with SGD')\n",
        "    print('learning rate:',Lr,',weight_decay:',Decay,',momentum:',Momentum,',batch_size:',batch_size)\n",
        "    # turn categories 0-9 into binary, convenient for training purpose\n",
        "    y_train = self.y_train\n",
        "    y_test = self.y_test\n",
        "    # use a sequential model\n",
        "    self.model = Sequential()\n",
        "\n",
        "    # add a 2D convolutional layer with 6 filters (i.e. convolutional channels), activation function is 'relu', padding is valid, kernal is 5*5 pixels window\n",
        "    # add a max pooling layer with size 2*2\n",
        "    # add a 2D convolutional layer with 16 filters (i.e. convolutional channels), activation function is 'relu', padding is valid, kernal is 5*5 pixels window\n",
        "    # add a max pooling layer with size 2*2\n",
        "    self.model.add(Conv2D(filters=6,activation='relu', input_shape=input_shape,padding='valid',kernel_size=(5,5)))\n",
        "    self.model.add(MaxPooling2D(pool_size=(2, 2)))\n",
        "    self.model.add(Conv2D(filters=16, activation='relu',padding='valid',kernel_size=(5,5)))\n",
        "    self.model.add(MaxPooling2D(pool_size=(2, 2)))\n",
        "\n",
        "    # add a Flatten layer\n",
        "    # flatten layer converts the pooled feature map to a single column, passed to the fully connected layer. Flatten won't affect the batch size\n",
        "    # add a fully connected layer with an output dimension of 120\n",
        "    self.model.add(Flatten())\n",
        "    self.model.add(Dense(50, activation='relu'))\n",
        "    self.model.add(Dense(num_classes, activation='softmax'))\n",
        "\n",
        "    \n",
        "    sgd = optimizers.SGD(lr=Lr, decay=Decay, momentum=Momentum, nesterov=True)\n",
        "    self.model.compile(optimizer='sgd',loss='categorical_crossentropy',metrics=['accuracy'])\n",
        "    self.model.fit(x_train, y_train, batch_size, epochs, verbose=1, shuffle=True)  \n",
        "\n",
        "  def test(self):\n",
        "    x_train=self.x_train\n",
        "    y_train=self.y_train\n",
        "    x_test=self.x_test\n",
        "    y_test=self.y_test\n",
        "    print('Test on',self.x_test.shape[0], 'samples')\n",
        "    score = self.model.evaluate(x_test, y_test, verbose=1)\n",
        "    print('Test loss:', score[0])\n",
        "    print('Test accuracy:', score[1])\n",
        "\n",
        "    y_train_pred = self.model.predict(x_train)  # predict the whole training dataset\n",
        "    # calculate the accuracy over the whole dataset and get information about falses\n",
        "    train_accuracy, (true_labels, pred_labels) = self.calculate_performance(y_train, y_train_pred)\n",
        "\n",
        "    print(f'Don\\'t use as a metric - Original Training Dataset Accuracy: {np.round(train_accuracy*100, 3)}%')\n",
        "\n",
        "    plt.figure(figsize=(3, 3))\n",
        "\n",
        "    # Calculate the confusion matrix and visualize it\n",
        "    train_matrix = confusion_matrix(y_pred=pred_labels, y_true=true_labels)\n",
        "    sns.heatmap(data=train_matrix, annot=True, cmap='Blues', fmt=f'.0f')\n",
        "\n",
        "    plt.title('Confusion Matrix - Training Dataset', size=15)\n",
        "    plt.xlabel('Predictions', size=10);\n",
        "    plt.ylabel('Labels', size=10);\n",
        "\n",
        "    y_test_pred = self.model.predict(x_test)  # predict the whole test dataset\n",
        "\n",
        "    # calculate the accuracy over the whole dataset and get information about falses\n",
        "    test_accuracy, (true_labels, pred_labels) = self.calculate_performance(y_test, y_test_pred,)\n",
        "\n",
        "    print(f'Test Dataset Accuracy: {np.round(test_accuracy*100, 3)}%')\n",
        "\n",
        "    plt.figure(figsize=(3, 3))\n",
        "\n",
        "    # Calculate the confusion matrix and visualize it\n",
        "    test_matrix = confusion_matrix(y_pred=pred_labels, y_true=true_labels)\n",
        "    sns.heatmap(data=test_matrix, annot=True, cmap='Blues', fmt=f'.0f')\n",
        "\n",
        "    plt.title('Confusion Matrix - Test Dataset', size=15)\n",
        "    plt.xlabel('Predictions', size=10);\n",
        "    plt.ylabel('Labels', size=10);\n",
        "\n",
        "  def calculate_performance(self, labels, pred):\n",
        "    pred_cat = np.argmax(pred, axis=1)  # categorical predictions 0-9\n",
        "    labels_cat = np.argmax(labels, axis=1)  # categorical labels 0-9\n",
        "    \n",
        "    # a boolean vector of element-wise comparison between prediction and label\n",
        "    corrects = (pred_cat == labels_cat)\n",
        "    \n",
        "    # get the falses data\n",
        "    falses_labels = labels_cat[~corrects]  # true labels of the falsely classified images - categorical\n",
        "    falses_preds = pred[~corrects]  # the false predictions of the images - 10-dim prediction\n",
        "     \n",
        "    examples_num = labels.shape[0]  # total numbers of examples\n",
        "    accuracy = np.count_nonzero(corrects) / examples_num\n",
        "\n",
        "    return accuracy, [labels_cat, pred_cat]"
      ],
      "execution_count": 0,
      "outputs": [
        {
          "output_type": "stream",
          "text": [
            "Using TensorFlow backend.\n",
            "/usr/local/lib/python3.6/dist-packages/statsmodels/tools/_testing.py:19: FutureWarning: pandas.util.testing is deprecated. Use the functions in the public API at pandas.testing instead.\n",
            "  import pandas.util.testing as tm\n"
          ],
          "name": "stderr"
        }
      ]
    }
  ]
}